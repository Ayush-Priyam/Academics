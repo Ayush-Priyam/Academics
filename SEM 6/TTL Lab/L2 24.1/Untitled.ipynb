{
 "cells": [
  {
   "cell_type": "code",
   "execution_count": 3,
   "id": "f37e0437",
   "metadata": {},
   "outputs": [
    {
     "name": "stdout",
     "output_type": "stream",
     "text": [
      "15\n",
      "3\n",
      "a + b =  18.0\n",
      "a - b =  12.0\n",
      "a / b =  5.0\n",
      "a * b =  45.0\n",
      "a ^ b =  3375.0\n",
      "a // b = 5.0\n",
      "a % b = 0.0\n"
     ]
    }
   ],
   "source": [
    "a = float(input())\n",
    "b = float(input())\n",
    "print(\"a + b = \",a+b)\n",
    "print(\"a - b = \",a-b)\n",
    "print(\"a / b = \",a/b)\n",
    "print(\"a * b = \",a*b)\n",
    "print(\"a ^ b = \",a**b)\n",
    "print(\"a // b =\",a//b)\n",
    "print(\"a % b =\",a%b)"
   ]
  },
  {
   "cell_type": "code",
   "execution_count": 4,
   "id": "569099c4",
   "metadata": {
    "scrolled": true
   },
   "outputs": [
    {
     "name": "stdout",
     "output_type": "stream",
     "text": [
      "4\n",
      "5\n",
      "a & b = 4\n",
      "a | b = 1\n",
      "-5\n",
      "8 | 10 = 2\n"
     ]
    }
   ],
   "source": [
    "#take two decimal no.s as input and perform binary xor, and.find 1's complement on the result of a AND b.\n",
    "#left shift a and b and perform xor.\n",
    "a = int(input())\n",
    "b = int(input())\n",
    "c = a&b\n",
    "print(\"a & b =\",c)\n",
    "print(\"a | b =\",a^b)\n",
    "print(~c)\n",
    "a=a<<1\n",
    "b=b<<1\n",
    "print(a,\"|\",b,\"=\",a^b)"
   ]
  },
  {
   "cell_type": "code",
   "execution_count": 9,
   "id": "6d0de9ab",
   "metadata": {
    "scrolled": true
   },
   "outputs": [
    {
     "name": "stdout",
     "output_type": "stream",
     "text": [
      "0\n",
      "1\n",
      "2\n",
      "3\n",
      "4\n",
      "5\n",
      "6\n",
      "7\n",
      "8\n",
      "9\n",
      "10\n",
      "11\n",
      "12\n",
      "13\n",
      "14\n",
      "15\n",
      "16\n",
      "17\n",
      "18\n",
      "19\n",
      "20\n",
      "21\n",
      "22\n",
      "23\n",
      "24\n",
      "25\n",
      "26\n",
      "27\n",
      "28\n",
      "29\n"
     ]
    }
   ],
   "source": [
    "n = 0\n",
    "while n<30:\n",
    "    print(n)\n",
    "    n+=1"
   ]
  },
  {
   "cell_type": "code",
   "execution_count": 10,
   "id": "3298fea3",
   "metadata": {},
   "outputs": [
    {
     "name": "stdout",
     "output_type": "stream",
     "text": [
      "1\n",
      "2\n",
      "3\n",
      "4\n",
      "5\n"
     ]
    }
   ],
   "source": [
    "for i in range(1,6):\n",
    "    print(i)"
   ]
  },
  {
   "cell_type": "code",
   "execution_count": 17,
   "id": "006e047c",
   "metadata": {},
   "outputs": [
    {
     "name": "stdout",
     "output_type": "stream",
     "text": [
      "Enter a number: 4\n",
      "1\n",
      "12\n",
      "123\n",
      "1234\n"
     ]
    }
   ],
   "source": [
    "a = int(input(\"Enter a number: \"))\n",
    "for x in range(1,a+1):\n",
    "    for i in range(1,x+1):\n",
    "        print(i, end = \"\")\n",
    "    print()"
   ]
  },
  {
   "cell_type": "code",
   "execution_count": 22,
   "id": "d7067bbe",
   "metadata": {},
   "outputs": [
    {
     "name": "stdout",
     "output_type": "stream",
     "text": [
      "Enter range: 3\n",
      "10.0\n"
     ]
    }
   ],
   "source": [
    "a = int(input(\"Enter range: \"))\n",
    "sum = 0\n",
    "for i in range(1,a+1):\n",
    "    sum+=(i*(i+1))/2\n",
    "print(sum)"
   ]
  },
  {
   "cell_type": "code",
   "execution_count": 19,
   "id": "4d1fafa5",
   "metadata": {},
   "outputs": [
    {
     "name": "stdout",
     "output_type": "stream",
     "text": [
      "2\n",
      "5\n",
      "32\n"
     ]
    }
   ],
   "source": [
    "a = int(input())\n",
    "b = int(input())\n",
    "y = a**b\n",
    "print(y)"
   ]
  },
  {
   "cell_type": "code",
   "execution_count": null,
   "id": "9caa4aca",
   "metadata": {},
   "outputs": [],
   "source": [
    "a = int(input())\n",
    "for num in range(0, a + 1):\n",
    "   if num > 1:\n",
    "       for i in range(2, num):\n",
    "           if (num % i) == 0:\n",
    "               break\n",
    "       else:\n",
    "           print(num)"
   ]
  },
  {
   "cell_type": "code",
   "execution_count": 17,
   "id": "d6280a8e",
   "metadata": {},
   "outputs": [
    {
     "name": "stdout",
     "output_type": "stream",
     "text": [
      "Enter the number of rows: 5\n",
      "                  1  2  3  4  5  4  3  2  1  \n",
      "                    1  2  3  4  3  2  1  \n",
      "                      1  2  3  2  1  \n",
      "                        1  2  1  \n",
      "                          1  \n",
      "                            \n"
     ]
    }
   ],
   "source": [
    "#2.6 WAP to form reverse pyramid of numbers for a given number.\n",
    "rows = int(input(\"Enter the number of rows: \"))  \n",
    "k = 2 * rows\n",
    "for i in range(rows, -1, -1):  \n",
    "    for j in range(k, 1, -1):  \n",
    "        print(end=\"  \")  \n",
    "    k = k + 1  \n",
    "    for j in range(1, i + 1):  \n",
    "        print(j, end=\"  \")\n",
    "    for j in range(i - 1, 0 ,-1):\n",
    "        print(j, end=\"  \")\n",
    "    print()"
   ]
  },
  {
   "cell_type": "code",
   "execution_count": 24,
   "id": "b764d3aa",
   "metadata": {},
   "outputs": [
    {
     "name": "stdout",
     "output_type": "stream",
     "text": [
      "enter no of rows4\n",
      "   1 \n",
      "  1 1 \n",
      " 1 2 1 \n",
      "1 3 3 1 \n"
     ]
    }
   ],
   "source": [
    "rows=int(input(\"enter no of rows\"))\n",
    "k=1\n",
    "for i in range(1,rows+1):\n",
    "    for a in range(1,(rows-i)+1):\n",
    "        print(end= \" \")\n",
    "    for j in range(0,i):\n",
    "        if j==0 or i==0:\n",
    "            k=1\n",
    "        else:\n",
    "            k=k*(i-j)//j\n",
    "        print(k,end=\" \")\n",
    "    print()"
   ]
  },
  {
   "cell_type": "code",
   "execution_count": null,
   "id": "9216ba2f",
   "metadata": {},
   "outputs": [],
   "source": []
  }
 ],
 "metadata": {
  "kernelspec": {
   "display_name": "Python 3",
   "language": "python",
   "name": "python3"
  },
  "language_info": {
   "codemirror_mode": {
    "name": "ipython",
    "version": 3
   },
   "file_extension": ".py",
   "mimetype": "text/x-python",
   "name": "python",
   "nbconvert_exporter": "python",
   "pygments_lexer": "ipython3",
   "version": "3.10.0 (tags/v3.10.0:b494f59, Oct  4 2021, 19:00:18) [MSC v.1929 64 bit (AMD64)]"
  },
  "vscode": {
   "interpreter": {
    "hash": "84acd9daa1976748b0cb1aac2d1d7e831b987877e0682bbd8df981985727d27e"
   }
  }
 },
 "nbformat": 4,
 "nbformat_minor": 5
}
