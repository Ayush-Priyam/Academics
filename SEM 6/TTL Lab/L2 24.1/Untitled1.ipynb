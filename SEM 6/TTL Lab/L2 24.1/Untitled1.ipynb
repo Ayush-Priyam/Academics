{
 "cells": [
  {
   "cell_type": "code",
   "execution_count": 2,
   "id": "b65cebd3",
   "metadata": {},
   "outputs": [
    {
     "name": "stdout",
     "output_type": "stream",
     "text": [
      "Enter a stringPYTHON\n",
      "PYTHONNOHTYP\n",
      "PYTHO  OHTYP\n",
      "PYTH    HTYP\n",
      "PYT      TYP\n",
      "PY        YP\n",
      "P          P\n",
      "PY        YP\n",
      "PYT      TYP\n",
      "PYTH    HTYP\n",
      "PYTHO  OHTYP\n",
      "PYTHONNOHTYP\n"
     ]
    }
   ],
   "source": [
    "a = input(\"Enter a string\")\n",
    "b = a[::-1]\n",
    "l = len(a)\n",
    "for i in range(l):\n",
    "    print(a[:l-i], end = \"\")\n",
    "    for x in range(i):\n",
    "        print(\"  \",end = '')\n",
    "    print(b[i:])\n",
    "for i in range(l-1,0,-1):\n",
    "    print(a[:(l-1)-i+2], end = \"\")\n",
    "    for x in range(i-1):\n",
    "        print(\"  \",end = '')\n",
    "    print(b[i-1:])"
   ]
  },
  {
   "cell_type": "code",
   "execution_count": null,
   "id": "080568c6",
   "metadata": {},
   "outputs": [],
   "source": [
    "a = int(input())\n",
    "b = int(input())\n",
    "y = int(a**b)\n",
    "print(y)"
   ]
  },
  {
   "cell_type": "code",
   "execution_count": null,
   "id": "c73b7cc8",
   "metadata": {},
   "outputs": [],
   "source": [
    "a = int(input (\"enter a num \"))\n",
    "x = 0\n",
    "for i in range(2,a):\n",
    "  if a%i==0:\n",
    "    x = 1\n",
    "    break\n",
    "if x == 1:\n",
    "  print('Not Prime')\n",
    "else:\n",
    "  print(\"Prime\")"
   ]
  },
  {
   "cell_type": "code",
   "execution_count": null,
   "id": "d390a241",
   "metadata": {},
   "outputs": [],
   "source": [
    "bin=1001\n",
    "print(\"The decimal value of\", bin, \"is:\")\n",
    "print(hex(bin), \"in binary.\")\n",
    "print(oct(bin), \"in octal.\")"
   ]
  }
 ],
 "metadata": {
  "kernelspec": {
   "display_name": "Python 3",
   "language": "python",
   "name": "python3"
  },
  "language_info": {
   "codemirror_mode": {
    "name": "ipython",
    "version": 3
   },
   "file_extension": ".py",
   "mimetype": "text/x-python",
   "name": "python",
   "nbconvert_exporter": "python",
   "pygments_lexer": "ipython3",
   "version": "3.10.0 (tags/v3.10.0:b494f59, Oct  4 2021, 19:00:18) [MSC v.1929 64 bit (AMD64)]"
  },
  "vscode": {
   "interpreter": {
    "hash": "84acd9daa1976748b0cb1aac2d1d7e831b987877e0682bbd8df981985727d27e"
   }
  }
 },
 "nbformat": 4,
 "nbformat_minor": 5
}
