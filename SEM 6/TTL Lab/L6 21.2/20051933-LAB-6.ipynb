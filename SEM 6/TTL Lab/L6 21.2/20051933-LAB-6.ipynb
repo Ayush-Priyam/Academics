{
 "cells": [
  {
   "attachments": {},
   "cell_type": "markdown",
   "metadata": {},
   "source": [
    "---\n",
    "# <center> <b> TTL LAB 6: CLASSES in Python </b>\n",
    "\n",
    "### Name: Ayush Priyam\n",
    "### Roll: 20051933\n",
    "### Date: 21th Feb 2023\n",
    "\n",
    "---\n"
   ]
  },
  {
   "attachments": {},
   "cell_type": "markdown",
   "metadata": {},
   "source": [
    "#### Q6.1 Define a class complex with requisite number of attributtes and member fns. Add two complex nos and display the result."
   ]
  },
  {
   "cell_type": "code",
   "execution_count": 1,
   "metadata": {},
   "outputs": [
    {
     "name": "stdout",
     "output_type": "stream",
     "text": [
      "(7+9j)\n"
     ]
    }
   ],
   "source": [
    "class Complex:\n",
    "    def __init__(self,a):\n",
    "        self.a=complex(a)\n",
    "    def add(self, other):\n",
    "        c= self.a+ other.a\n",
    "        print(c)\n",
    "\n",
    "\n",
    "# c1 = Complex(complex(input(\"Enter complex no1: \")))  # '\n",
    "# c2 = Complex(complex(input(\"Enter complex no2: \")))\n",
    "c1= Complex('4+5j')\n",
    "c2 = Complex('3+4j')\n",
    "c1.add(c2)"
   ]
  },
  {
   "attachments": {},
   "cell_type": "markdown",
   "metadata": {},
   "source": [
    "---\n",
    "#### Q6.2 By using classs in python add two times"
   ]
  },
  {
   "cell_type": "code",
   "execution_count": null,
   "metadata": {},
   "outputs": [
    {
     "name": "stdout",
     "output_type": "stream",
     "text": [
      "Added time: 1:1:10\n"
     ]
    }
   ],
   "source": [
    "class Time:\n",
    "    def __init__(self,a):\n",
    "        ar1 = a.split(\":\")\n",
    "        self.h = int(ar1[0])\n",
    "        self.m = int(ar1[1])\n",
    "        self.s = int(ar1[2])\n",
    "    def add(self, other):\n",
    "        hh= self.h+ other.h\n",
    "        mm = self.m + other.m\n",
    "        ss = self.s + other.s\n",
    "        if(ss >= 60):\n",
    "            mm = mm + ss//60\n",
    "            ss = ss % 60\n",
    "        if(mm >= 60):\n",
    "            hh = hh + mm // 60\n",
    "            mm = mm % 60\n",
    "        if hh>23:\n",
    "            hh=hh%24\n",
    "        print(f\"Added time: {hh}:{mm}:{ss}\")\n",
    "# t1= Time(input(\"Enter time 1: \"))\n",
    "# t2= Time(input(\"ENter time2: \"))\n",
    "t1= Time('4:15:35')\n",
    "t2=Time('20:45:35')\n",
    "t1.add(t2)"
   ]
  }
 ],
 "metadata": {
  "kernelspec": {
   "display_name": "Python 3",
   "language": "python",
   "name": "python3"
  },
  "language_info": {
   "codemirror_mode": {
    "name": "ipython",
    "version": 3
   },
   "file_extension": ".py",
   "mimetype": "text/x-python",
   "name": "python",
   "nbconvert_exporter": "python",
   "pygments_lexer": "ipython3",
   "version": "3.10.0"
  },
  "orig_nbformat": 4,
  "vscode": {
   "interpreter": {
    "hash": "84acd9daa1976748b0cb1aac2d1d7e831b987877e0682bbd8df981985727d27e"
   }
  }
 },
 "nbformat": 4,
 "nbformat_minor": 2
}
