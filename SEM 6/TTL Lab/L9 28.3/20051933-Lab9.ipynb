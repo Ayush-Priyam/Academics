{
 "cells": [
  {
   "attachments": {},
   "cell_type": "markdown",
   "metadata": {},
   "source": [
    "---\n",
    "# <center> <b> TTL LAB 9: Pandas II in Python </b>\n",
    "\n",
    "### Name: Ayush Priyam\n",
    "### Roll: 20051933\n",
    "### Date: 28th March 2023\n",
    "\n",
    "---\n"
   ]
  },
  {
   "attachments": {},
   "cell_type": "markdown",
   "metadata": {},
   "source": [
    "0. Quit<br>\n",
    "1. Write Quiz-1 & Quiz-2 Score into Attenance-202.xlsx file, in case of absent write ABS wrt to CSE17-T&T LAB (QUIZ) - SPRING 2023.XLSX <br>\n",
    "Open Attenance-202.xlsx file manually to check whether correctly written or not.\n",
    "2. Display the content of the file Attenance-202.xlsx <br>\n",
    "3. Display the list of students absent at least in one quiz.<br>\n",
    "4. Display the questions in order of difficult to easy in the following format<br>\n",
    "    Q.No.     No. of Students \t   No. of Students            % of <br>\n",
    "               Answered correctly     attempt incorrect          Incorrect\n",
    "\n",
    "5. Display first 10 students quiz score based on Quiz Number as user input in descending order in the following format<br>\n",
    "Sl. No.    Roll Number      Quiz-1 or Quiz-2 Score<br>\n",
    "6. Display each students average score out of 20. Also write this score for each student in Attenance-202.xlsx  file"
   ]
  },
  {
   "cell_type": "code",
   "execution_count": 1,
   "metadata": {},
   "outputs": [],
   "source": [
    "import pandas as pd\n",
    "import  numpy as np"
   ]
  },
  {
   "cell_type": "code",
   "execution_count": 2,
   "metadata": {},
   "outputs": [
    {
     "name": "stdout",
     "output_type": "stream",
     "text": [
      "CSE17\n",
      "IT3\n"
     ]
    }
   ],
   "source": [
    "qr= pd.read_excel('A:\\Downloads\\QuizResponses.xlsx')\n",
    "at= pd.read_excel('A:\\Downloads\\Attendance2023.xlsx', sheet_name='CSE17')\n",
    "qa= pd.read_excel('A:\\Downloads\\QuizAnswers.xlsx')"
   ]
  },
  {
   "cell_type": "code",
   "execution_count": 3,
   "metadata": {},
   "outputs": [],
   "source": [
    "qr[\"Timestamp\"]= qr['Timestamp'].astype('str')\n",
    "qr[\"QuizNo\"]=0"
   ]
  },
  {
   "cell_type": "code",
   "execution_count": 4,
   "metadata": {},
   "outputs": [],
   "source": [
    "# for i in range(len(qr)):\n",
    "#     x=qr.loc[i,'Timestamp']\n",
    "#     if x.contains('2023-02-07'):\n",
    "#         #qr[\"QuizNO\"]=1\n",
    "#         print(qr['Name'])\n",
    "# #pdqr.loc[1,'Timestamp']\n"
   ]
  },
  {
   "cell_type": "code",
   "execution_count": 5,
   "metadata": {},
   "outputs": [
    {
     "data": {
      "text/html": [
       "<div>\n",
       "<style scoped>\n",
       "    .dataframe tbody tr th:only-of-type {\n",
       "        vertical-align: middle;\n",
       "    }\n",
       "\n",
       "    .dataframe tbody tr th {\n",
       "        vertical-align: top;\n",
       "    }\n",
       "\n",
       "    .dataframe thead th {\n",
       "        text-align: right;\n",
       "    }\n",
       "</style>\n",
       "<table border=\"1\" class=\"dataframe\">\n",
       "  <thead>\n",
       "    <tr style=\"text-align: right;\">\n",
       "      <th></th>\n",
       "      <th>Timestamp</th>\n",
       "      <th>QuizNo</th>\n",
       "    </tr>\n",
       "  </thead>\n",
       "  <tbody>\n",
       "    <tr>\n",
       "      <th>0</th>\n",
       "      <td>2023-02-07 10:30:09.861</td>\n",
       "      <td>1</td>\n",
       "    </tr>\n",
       "    <tr>\n",
       "      <th>1</th>\n",
       "      <td>2023-02-07 10:35:18.932</td>\n",
       "      <td>1</td>\n",
       "    </tr>\n",
       "    <tr>\n",
       "      <th>2</th>\n",
       "      <td>2023-02-07 10:35:27.369</td>\n",
       "      <td>1</td>\n",
       "    </tr>\n",
       "    <tr>\n",
       "      <th>3</th>\n",
       "      <td>2023-02-07 10:35:32.242</td>\n",
       "      <td>1</td>\n",
       "    </tr>\n",
       "    <tr>\n",
       "      <th>4</th>\n",
       "      <td>2023-02-07 10:36:00.816</td>\n",
       "      <td>1</td>\n",
       "    </tr>\n",
       "    <tr>\n",
       "      <th>...</th>\n",
       "      <td>...</td>\n",
       "      <td>...</td>\n",
       "    </tr>\n",
       "    <tr>\n",
       "      <th>146</th>\n",
       "      <td>2023-02-14 10:53:38.110</td>\n",
       "      <td>2</td>\n",
       "    </tr>\n",
       "    <tr>\n",
       "      <th>147</th>\n",
       "      <td>2023-02-14 10:53:54.535</td>\n",
       "      <td>2</td>\n",
       "    </tr>\n",
       "    <tr>\n",
       "      <th>148</th>\n",
       "      <td>2023-02-14 10:53:57.552</td>\n",
       "      <td>2</td>\n",
       "    </tr>\n",
       "    <tr>\n",
       "      <th>149</th>\n",
       "      <td>2023-02-14 10:53:59.175</td>\n",
       "      <td>2</td>\n",
       "    </tr>\n",
       "    <tr>\n",
       "      <th>150</th>\n",
       "      <td>2023-02-14 10:54:11.571</td>\n",
       "      <td>2</td>\n",
       "    </tr>\n",
       "  </tbody>\n",
       "</table>\n",
       "<p>151 rows × 2 columns</p>\n",
       "</div>"
      ],
      "text/plain": [
       "                   Timestamp  QuizNo\n",
       "0    2023-02-07 10:30:09.861       1\n",
       "1    2023-02-07 10:35:18.932       1\n",
       "2    2023-02-07 10:35:27.369       1\n",
       "3    2023-02-07 10:35:32.242       1\n",
       "4    2023-02-07 10:36:00.816       1\n",
       "..                       ...     ...\n",
       "146  2023-02-14 10:53:38.110       2\n",
       "147  2023-02-14 10:53:54.535       2\n",
       "148  2023-02-14 10:53:57.552       2\n",
       "149  2023-02-14 10:53:59.175       2\n",
       "150  2023-02-14 10:54:11.571       2\n",
       "\n",
       "[151 rows x 2 columns]"
      ]
     },
     "execution_count": 5,
     "metadata": {},
     "output_type": "execute_result"
    }
   ],
   "source": [
    "for i in range(len(qr)):\n",
    "    x = pd.Series(qr.loc[i, 'Timestamp'])\n",
    "    if x.str.contains('2023-02-07').bool():\n",
    "        qr.loc[i, \"QuizNo\"]=1\n",
    "        #print(qr.loc[i,'QuizNo'])\n",
    "    else:\n",
    "        qr.loc[i, \"QuizNo\"] = 2\n",
    "        #print(qr.loc[i,'NAME'])\n",
    "# pdqr.loc[1,'Timestamp']\n",
    "qr[['Timestamp','QuizNo']]"
   ]
  },
  {
   "cell_type": "code",
   "execution_count": 6,
   "metadata": {},
   "outputs": [],
   "source": [
    "at['QUIZ-1  (SCORE/ ABS)']=np.nan\n",
    "at['QUIZ-2  (SCORE/ ABS)']=np.nan\n",
    "for i in range(len(qr)):\n",
    "    x=qr.loc[i,'QuizNo']\n",
    "    roll= qr.loc[i, 'ROLL']\n",
    "    marks= qr.loc[i, 'Score']\n",
    "    #print(type(x),roll,marks)\n",
    "    if x==1:\n",
    "        at.loc[at['ROLL NO.']==roll, 'QUIZ-1  (SCORE/ ABS)']=marks\n",
    "    else:\n",
    "        at.loc[at['ROLL NO.']==roll, 'QUIZ-2  (SCORE/ ABS)']=marks"
   ]
  },
  {
   "cell_type": "code",
   "execution_count": 7,
   "metadata": {},
   "outputs": [
    {
     "data": {
      "text/html": [
       "<div>\n",
       "<style scoped>\n",
       "    .dataframe tbody tr th:only-of-type {\n",
       "        vertical-align: middle;\n",
       "    }\n",
       "\n",
       "    .dataframe tbody tr th {\n",
       "        vertical-align: top;\n",
       "    }\n",
       "\n",
       "    .dataframe thead th {\n",
       "        text-align: right;\n",
       "    }\n",
       "</style>\n",
       "<table border=\"1\" class=\"dataframe\">\n",
       "  <thead>\n",
       "    <tr style=\"text-align: right;\">\n",
       "      <th></th>\n",
       "      <th>SL. NO.</th>\n",
       "      <th>ROLL NO.</th>\n",
       "      <th>FIRST NAME</th>\n",
       "      <th>LAST NAME</th>\n",
       "      <th>QUIZ-1  (SCORE/ ABS)</th>\n",
       "      <th>QUIZ-2  (SCORE/ ABS)</th>\n",
       "    </tr>\n",
       "  </thead>\n",
       "  <tbody>\n",
       "    <tr>\n",
       "      <th>0</th>\n",
       "      <td>1</td>\n",
       "      <td>2005017</td>\n",
       "      <td>ASHUTOSH</td>\n",
       "      <td>PATEL</td>\n",
       "      <td>14.0</td>\n",
       "      <td>18.0</td>\n",
       "    </tr>\n",
       "    <tr>\n",
       "      <th>1</th>\n",
       "      <td>2</td>\n",
       "      <td>2005065</td>\n",
       "      <td>UJJWAL</td>\n",
       "      <td>RAJ</td>\n",
       "      <td>14.0</td>\n",
       "      <td>18.0</td>\n",
       "    </tr>\n",
       "    <tr>\n",
       "      <th>2</th>\n",
       "      <td>3</td>\n",
       "      <td>2005108</td>\n",
       "      <td>MIR</td>\n",
       "      <td>ALI</td>\n",
       "      <td>12.0</td>\n",
       "      <td>18.0</td>\n",
       "    </tr>\n",
       "    <tr>\n",
       "      <th>3</th>\n",
       "      <td>4</td>\n",
       "      <td>2005128</td>\n",
       "      <td>SHASWAT</td>\n",
       "      <td>SARANGI</td>\n",
       "      <td>16.0</td>\n",
       "      <td>20.0</td>\n",
       "    </tr>\n",
       "    <tr>\n",
       "      <th>4</th>\n",
       "      <td>5</td>\n",
       "      <td>2005130</td>\n",
       "      <td>SHIDHARTH</td>\n",
       "      <td>MOHANTY</td>\n",
       "      <td>NaN</td>\n",
       "      <td>12.0</td>\n",
       "    </tr>\n",
       "  </tbody>\n",
       "</table>\n",
       "</div>"
      ],
      "text/plain": [
       "   SL. NO.  ROLL NO. FIRST NAME LAST NAME  QUIZ-1  (SCORE/ ABS)  \\\n",
       "0        1   2005017   ASHUTOSH     PATEL                  14.0   \n",
       "1        2   2005065     UJJWAL       RAJ                  14.0   \n",
       "2        3   2005108        MIR       ALI                  12.0   \n",
       "3        4   2005128    SHASWAT   SARANGI                  16.0   \n",
       "4        5   2005130  SHIDHARTH   MOHANTY                   NaN   \n",
       "\n",
       "   QUIZ-2  (SCORE/ ABS)  \n",
       "0                  18.0  \n",
       "1                  18.0  \n",
       "2                  18.0  \n",
       "3                  20.0  \n",
       "4                  12.0  "
      ]
     },
     "execution_count": 7,
     "metadata": {},
     "output_type": "execute_result"
    }
   ],
   "source": [
    "at.head()"
   ]
  },
  {
   "cell_type": "code",
   "execution_count": 8,
   "metadata": {},
   "outputs": [],
   "source": [
    "def addabs():\n",
    "    at['QUIZ-1  (SCORE/ ABS)'] = at['QUIZ-1  (SCORE/ ABS)'].astype(str)\n",
    "    at['QUIZ-2  (SCORE/ ABS)'] = at['QUIZ-2  (SCORE/ ABS)'].astype(str)\n",
    "    at['QUIZ-1  (SCORE/ ABS)'].replace('nan', 'ABS', inplace=True)\n",
    "    at['QUIZ-2  (SCORE/ ABS)'].replace('nan', 'ABS', inplace=True)\n",
    "addabs()"
   ]
  },
  {
   "cell_type": "code",
   "execution_count": 9,
   "metadata": {},
   "outputs": [],
   "source": [
    "#at.head(15)"
   ]
  },
  {
   "cell_type": "code",
   "execution_count": 10,
   "metadata": {},
   "outputs": [],
   "source": [
    "def printabs(df):\n",
    "    for i in range(len(df)):\n",
    "        if df.loc[i,'QUIZ-1  (SCORE/ ABS)']=='ABS':\n",
    "            print(df.loc[i,'FIRST NAME'], df.loc[i,'LAST NAME'])\n",
    "        elif df.loc[i,'QUIZ-2  (SCORE/ ABS)']=='ABS':\n",
    "            print(df.loc[i,'FIRST NAME'], df.loc[i,'LAST NAME'])"
   ]
  },
  {
   "cell_type": "code",
   "execution_count": 11,
   "metadata": {},
   "outputs": [],
   "source": [
    "#printabs(at)"
   ]
  },
  {
   "cell_type": "code",
   "execution_count": 12,
   "metadata": {},
   "outputs": [
    {
     "name": "stderr",
     "output_type": "stream",
     "text": [
      "C:\\Users\\priya\\AppData\\Local\\Temp\\ipykernel_9092\\264544057.py:1: UserWarning: Boolean Series key will be reindexed to match DataFrame index.\n",
      "  x = qr[qr['Score'] == 20][qr['Set No.'] == 2]\n"
     ]
    }
   ],
   "source": [
    "x = qr[qr['Score'] == 20][qr['Set No.'] == 2]\n",
    "x.reset_index(drop=True, inplace=True)\n",
    "z=np.array(x.loc[ :,'Q1':'Q10'].head(1))\n",
    "z.shape\n",
    "#print(z)\n",
    "z= pd.DataFrame(z.reshape(-1,1))\n",
    "qa['Answer2']=z\n",
    "\n"
   ]
  },
  {
   "cell_type": "code",
   "execution_count": 13,
   "metadata": {},
   "outputs": [],
   "source": [
    "qa.to_excel('A:\\Downloads\\QuizAnswers2.xlsx', index=False)"
   ]
  },
  {
   "cell_type": "code",
   "execution_count": 14,
   "metadata": {},
   "outputs": [],
   "source": [
    "def incorrperc():\n",
    "    t1 = []\n",
    "    for j in range(1, 3):\n",
    "        for i in range(10):\n",
    "            n = qr[qr[qr[\"Set No.\"] == j] == qa.iloc[0+i, j]].iloc[:, 7+i].count()\n",
    "            t1.append([j, i+1, n, 75-n, round(100*(75-n)/75, 2)])\n",
    "    t2 = pd.DataFrame(t1, columns=[\n",
    "                    'Set No.', 'Q. No', 'Correct Students', 'Incorrect Students', 'IncorrectPercentage'])\n",
    "    return t2\n",
    "\n"
   ]
  },
  {
   "cell_type": "code",
   "execution_count": 15,
   "metadata": {},
   "outputs": [],
   "source": [
    "def del_abs():\n",
    "    at.replace('ABS', 0.0, inplace=True)\n",
    "    at['QUIZ-1  (SCORE/ ABS)'] = at['QUIZ-1  (SCORE/ ABS)'].astype(float)\n",
    "    at['QUIZ-2  (SCORE/ ABS)'] = at['QUIZ-2  (SCORE/ ABS)'].astype(float)\n",
    "#del_abs()"
   ]
  },
  {
   "cell_type": "code",
   "execution_count": 16,
   "metadata": {},
   "outputs": [],
   "source": [
    "def top10(qn):\n",
    "    if qn==1:\n",
    "        return at.sort_values(by='QUIZ-1  (SCORE/ ABS)', ascending=False).head(10).reset_index()\n",
    "    if qn==2:\n",
    "        return at.sort_values(by='QUIZ-2  (SCORE/ ABS)', ascending=False).head(10).reset_index()"
   ]
  },
  {
   "cell_type": "code",
   "execution_count": 17,
   "metadata": {},
   "outputs": [
    {
     "name": "stderr",
     "output_type": "stream",
     "text": [
      "C:\\Users\\priya\\AppData\\Local\\Temp\\ipykernel_9092\\2592239019.py:2: FutureWarning: Dropping of nuisance columns in DataFrame reductions (with 'numeric_only=None') is deprecated; in a future version this will raise TypeError.  Select only valid columns before calling the reduction.\n",
      "  at['Average']= at[['QUIZ-1  (SCORE/ ABS)', 'QUIZ-2  (SCORE/ ABS)']].mean(axis=1)\n"
     ]
    }
   ],
   "source": [
    "#at[['QUIZ-1  (SCORE/ ABS)', 'QUIZ-2  (SCORE/ ABS)']]\n",
    "at['Average']= at[['QUIZ-1  (SCORE/ ABS)', 'QUIZ-2  (SCORE/ ABS)']].mean(axis=1)\n",
    "# at[['Average']]"
   ]
  },
  {
   "cell_type": "code",
   "execution_count": 18,
   "metadata": {},
   "outputs": [],
   "source": [
    "def addabs2():\n",
    "    at['QUIZ-1  (SCORE/ ABS)'] = at['QUIZ-1  (SCORE/ ABS)'].astype(str)\n",
    "    at['QUIZ-2  (SCORE/ ABS)'] = at['QUIZ-2  (SCORE/ ABS)'].astype(str)\n",
    "    at['QUIZ-1  (SCORE/ ABS)'].replace('0.0', 'ABS', inplace=True)\n",
    "    at['QUIZ-2  (SCORE/ ABS)'].replace('0.0', 'ABS', inplace=True)"
   ]
  },
  {
   "cell_type": "code",
   "execution_count": 19,
   "metadata": {},
   "outputs": [],
   "source": [
    "#at.to_csv('A:\\Downloads\\Attendance32023.csv', index=False)"
   ]
  },
  {
   "cell_type": "code",
   "execution_count": 20,
   "metadata": {},
   "outputs": [
    {
     "name": "stdout",
     "output_type": "stream",
     "text": [
      "    SL. NO.  ROLL NO. FIRST NAME LAST NAME QUIZ-1  (SCORE/ ABS)  \\\n",
      "0         1   2005017   ASHUTOSH     PATEL                 14.0   \n",
      "1         2   2005065     UJJWAL       RAJ                 14.0   \n",
      "2         3   2005108        MIR       ALI                 12.0   \n",
      "3         4   2005128    SHASWAT   SARANGI                 16.0   \n",
      "4         5   2005130  SHIDHARTH   MOHANTY                  ABS   \n",
      "..      ...       ...        ...       ...                  ...   \n",
      "77       78  20051950      NAVYA    OBEROI                 18.0   \n",
      "78       79  20051951      ISHAN   PUROHIT                 10.0   \n",
      "79       80  20051985    DURGESH     PATEL                  6.0   \n",
      "80       81  20051994     CHIRAG   AGRAWAL                 10.0   \n",
      "81       82  21053046   SAYANTAN   GOSWAMI                  2.0   \n",
      "\n",
      "   QUIZ-2  (SCORE/ ABS)  Average  \n",
      "0                  18.0      NaN  \n",
      "1                  18.0      NaN  \n",
      "2                  18.0      NaN  \n",
      "3                  20.0      NaN  \n",
      "4                  12.0      NaN  \n",
      "..                  ...      ...  \n",
      "77                 16.0      NaN  \n",
      "78                 10.0      NaN  \n",
      "79                 16.0      NaN  \n",
      "80                 18.0      NaN  \n",
      "81                 10.0      NaN  \n",
      "\n",
      "[82 rows x 7 columns]\n"
     ]
    },
    {
     "ename": "ValueError",
     "evalue": "invalid literal for int() with base 10: ''",
     "output_type": "error",
     "traceback": [
      "\u001b[1;31m---------------------------------------------------------------------------\u001b[0m",
      "\u001b[1;31mValueError\u001b[0m                                Traceback (most recent call last)",
      "Cell \u001b[1;32mIn[20], line 3\u001b[0m\n\u001b[0;32m      1\u001b[0m \u001b[39m#MODIFY\u001b[39;00m\n\u001b[0;32m      2\u001b[0m \u001b[39mwhile\u001b[39;00m \u001b[39mTrue\u001b[39;00m:\n\u001b[1;32m----> 3\u001b[0m     ch\u001b[39m=\u001b[39m \u001b[39mint\u001b[39;49m(\u001b[39minput\u001b[39;49m(\u001b[39m\"\u001b[39;49m\u001b[39mEnter your choice:0 to quit \u001b[39;49m\u001b[39m\"\u001b[39;49m))\n\u001b[0;32m      4\u001b[0m     \u001b[39mif\u001b[39;00m(ch\u001b[39m==\u001b[39m\u001b[39m0\u001b[39m):\n\u001b[0;32m      5\u001b[0m         \u001b[39mbreak\u001b[39;00m\n",
      "\u001b[1;31mValueError\u001b[0m: invalid literal for int() with base 10: ''"
     ]
    }
   ],
   "source": [
    "#MODIFY\n",
    "while True:\n",
    "    ch= int(input(\"Enter your choice:0 to quit \"))\n",
    "    if(ch==0):\n",
    "        break\n",
    "    if(ch==1):\n",
    "        at.to_excel('A:\\Downloads\\Attendance22023.xlsx', sheet_name='CSE17')\n",
    "    if(ch==2):\n",
    "        print(at)\n",
    "    if(ch==3):\n",
    "        addabs()\n",
    "        printabs(at)\n",
    "    if(ch==4):\n",
    "        del_abs()\n",
    "        z= incorrperc()\n",
    "        print(z)\n",
    "    if(ch==5):\n",
    "        del_abs()\n",
    "        qn = int(input(\"Enter Quiz No\"))\n",
    "        at['Average'] = at[[\n",
    "            'QUIZ-1  (SCORE/ ABS)', 'QUIZ-2  (SCORE/ ABS)']].mean(axis=1)\n",
    "        z= top10(qn)\n",
    "        print(z)\n",
    "        addabs2()\n",
    "        at.to_csv('A:\\Downloads\\Attendance32023.csv', index=False)\n",
    "        "
   ]
  }
 ],
 "metadata": {
  "kernelspec": {
   "display_name": "Python 3",
   "language": "python",
   "name": "python3"
  },
  "language_info": {
   "codemirror_mode": {
    "name": "ipython",
    "version": 3
   },
   "file_extension": ".py",
   "mimetype": "text/x-python",
   "name": "python",
   "nbconvert_exporter": "python",
   "pygments_lexer": "ipython3",
   "version": "3.11.1"
  },
  "orig_nbformat": 4
 },
 "nbformat": 4,
 "nbformat_minor": 2
}
