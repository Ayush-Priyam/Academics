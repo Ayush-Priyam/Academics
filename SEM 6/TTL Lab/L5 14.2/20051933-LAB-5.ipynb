{
 "cells": [
  {
   "attachments": {},
   "cell_type": "markdown",
   "metadata": {},
   "source": [
    "---\n",
    "# <center> <b> TTL LAB 5 </b>\n",
    "\n",
    "### Name: Ayush Priyam\n",
    "### Roll: 20051933\n",
    "### Date: 14th Feb 2023\n",
    "\n",
    "---"
   ]
  },
  {
   "attachments": {},
   "cell_type": "markdown",
   "metadata": {},
   "source": [
    "### Importing numpy\n",
    "and related modules"
   ]
  },
  {
   "cell_type": "code",
   "execution_count": 23,
   "metadata": {},
   "outputs": [],
   "source": [
    "import numpy as np"
   ]
  },
  {
   "attachments": {},
   "cell_type": "markdown",
   "metadata": {},
   "source": [
    "---\n",
    "### Q1. Write a program to create a null vector of size 25 but the values from fifth to tenth elements are all 1."
   ]
  },
  {
   "cell_type": "code",
   "execution_count": 24,
   "metadata": {},
   "outputs": [
    {
     "name": "stdout",
     "output_type": "stream",
     "text": [
      "[0 0 0 0 1 1 1 1 1 1 0 0 0 0 0 0 0 0 0 0 0 0 0 0 0]\n"
     ]
    }
   ],
   "source": [
    "a = np.zeros(25, dtype=int)\n",
    "a[4:10] = 1\n",
    "print(a)"
   ]
  },
  {
   "attachments": {},
   "cell_type": "markdown",
   "metadata": {},
   "source": [
    "---\n",
    "### Q2. Write a program to create a vector with values ranging from 5 to 20 & reverse it."
   ]
  },
  {
   "cell_type": "code",
   "execution_count": 25,
   "metadata": {},
   "outputs": [
    {
     "name": "stdout",
     "output_type": "stream",
     "text": [
      "Original array:  [12 14 12  6 16 13 18 10 11 11]\n",
      "Flipped:  [11 11 10 18 13 16  6 12 14 12]\n"
     ]
    }
   ],
   "source": [
    "#n = int(input(\"Enter size: \"))\n",
    "n=10\n",
    "a= np.random.randint(5,20, n)\n",
    "print(\"Original array: \", a)\n",
    "print(\"Flipped: \", np.flip(a))"
   ]
  },
  {
   "attachments": {},
   "cell_type": "markdown",
   "metadata": {},
   "source": [
    "---\n",
    "### Q3.Write a program to create a vector with 10 random values & sort first half ascending & second half descending."
   ]
  },
  {
   "cell_type": "code",
   "execution_count": 26,
   "metadata": {},
   "outputs": [
    {
     "name": "stdout",
     "output_type": "stream",
     "text": [
      "Original array: [48  1 21 15 28 41 32 37 34 24]\n",
      "Modified array: [ 1 15 21 28 48 41 37 34 32 24]\n"
     ]
    }
   ],
   "source": [
    "n = 10\n",
    "# a = np.zeros(n, dtype=int)\n",
    "# for i in range(n):\n",
    "#     a[i] = random.randint(0, 20000) % 50\n",
    "a= np.random.randint(0,50,10)\n",
    "print(\"Original array:\", a)\n",
    "x = np.sort(a[:5])\n",
    "y = np.sort(a[5:])[::-1]\n",
    "print(\"Modified array:\",np.concatenate((x,y)))"
   ]
  },
  {
   "attachments": {},
   "cell_type": "markdown",
   "metadata": {},
   "source": [
    "---\n",
    "### Q4. Write a program to create a vector of size 10 with values ranging from 0 to 1, both excluded."
   ]
  },
  {
   "cell_type": "code",
   "execution_count": 27,
   "metadata": {},
   "outputs": [
    {
     "name": "stdout",
     "output_type": "stream",
     "text": [
      "[0.72624779 0.19668959 0.53380616 0.50343927 0.38047216 0.06452513\n",
      " 0.78016599 0.51198874 0.48752787 0.53104713]\n"
     ]
    }
   ],
   "source": [
    "n = 10\n",
    "a = np.random.random(n)#can also use linspace\n",
    "print(a)"
   ]
  },
  {
   "attachments": {},
   "cell_type": "markdown",
   "metadata": {},
   "source": [
    "---\n",
    "### Q5. Write a program to concatenate element-wise two arrays of string.  "
   ]
  },
  {
   "cell_type": "code",
   "execution_count": 28,
   "metadata": {},
   "outputs": [
    {
     "name": "stdout",
     "output_type": "stream",
     "text": [
      "['aA' 'yA' 'uA' 'sA' 'hA']\n"
     ]
    }
   ],
   "source": [
    "n1 = \"ayush\"\n",
    "n2 = \"AAAAA\"\n",
    "a = np.array(list(n1))\n",
    "b = np.array(list(n2))\n",
    "x = []\n",
    "for i in range(len(n1)):\n",
    "    x.append(a[i]+b[i])\n",
    "print(np.array(x))"
   ]
  },
  {
   "attachments": {},
   "cell_type": "markdown",
   "metadata": {},
   "source": [
    "---\n",
    "### Q6. WAP to create 4x3  and find max, min"
   ]
  },
  {
   "cell_type": "code",
   "execution_count": 29,
   "metadata": {},
   "outputs": [
    {
     "name": "stdout",
     "output_type": "stream",
     "text": [
      "Array:\n",
      " [[34 14 17]\n",
      " [28 23 45]\n",
      " [45 49 19]\n",
      " [40 11 17]]\n",
      "Max:49, Min:11 \n"
     ]
    }
   ],
   "source": [
    "a = np.random.randint(0, 50,(4, 3))\n",
    "print(\"Array:\\n\", a)\n",
    "print(f\"Max:{np.max(a)}, Min:{np.min(a)} \")"
   ]
  },
  {
   "attachments": {},
   "cell_type": "markdown",
   "metadata": {},
   "source": [
    "---\n",
    "### Q7. Write a program to create a 2D array with 1 on the border and 0 inside."
   ]
  },
  {
   "cell_type": "code",
   "execution_count": 30,
   "metadata": {},
   "outputs": [
    {
     "data": {
      "text/plain": [
       "array([[1, 1, 1, 1, 1],\n",
       "       [1, 0, 0, 0, 1],\n",
       "       [1, 0, 0, 0, 1],\n",
       "       [1, 0, 0, 0, 1],\n",
       "       [1, 1, 1, 1, 1]])"
      ]
     },
     "execution_count": 30,
     "metadata": {},
     "output_type": "execute_result"
    }
   ],
   "source": [
    "a=np.ones((5,5), dtype=int)\n",
    "a[1:-1,1:-1]=0\n",
    "a"
   ]
  },
  {
   "attachments": {},
   "cell_type": "markdown",
   "metadata": {},
   "source": [
    "---\n",
    "### Q8. Write a program to create a 4x4 matrix with values 1,2,3,4 just below & above the diagonal, rest zeros."
   ]
  },
  {
   "cell_type": "code",
   "execution_count": 31,
   "metadata": {},
   "outputs": [
    {
     "name": "stdout",
     "output_type": "stream",
     "text": [
      "[[0 2 0 0]\n",
      " [4 0 2 0]\n",
      " [0 1 0 2]\n",
      " [0 0 4 0]]\n"
     ]
    }
   ],
   "source": [
    "a = np.zeros((4, 4), int)\n",
    "for i in range(1,4):\n",
    "    a[i][i-1] = np.random.randint(1, 5)\n",
    "    a[i-1][i] = np.random.randint(1, 5)\n",
    "print(a)"
   ]
  },
  {
   "attachments": {},
   "cell_type": "markdown",
   "metadata": {},
   "source": [
    "---\n",
    "### Q9. Write a program to extract all the contiguous 3x3 blocks from a random 10x10 matrix. "
   ]
  },
  {
   "cell_type": "code",
   "execution_count": 32,
   "metadata": {},
   "outputs": [
    {
     "name": "stdout",
     "output_type": "stream",
     "text": [
      "Original array:\n",
      " [[4 2 2 4 0 8 1 7 8 0]\n",
      " [9 9 5 0 8 1 6 4 8 6]\n",
      " [1 9 1 5 5 1 8 1 6 4]\n",
      " [4 2 2 4 6 1 9 4 6 5]\n",
      " [1 1 8 8 0 7 8 2 8 0]\n",
      " [5 3 5 6 2 0 5 0 5 8]\n",
      " [6 4 1 9 7 3 2 8 6 5]\n",
      " [0 3 0 9 7 6 4 4 8 6]\n",
      " [3 5 4 5 6 7 1 3 2 9]\n",
      " [4 8 2 4 8 4 8 0 3 3]]\n",
      "All 3x3 blocks:\n",
      "[[4 2 2]\n",
      " [9 9 5]\n",
      " [1 9 1]]\n",
      "\n",
      "[[2 2 4]\n",
      " [9 5 0]\n",
      " [9 1 5]]\n",
      "\n",
      "[[2 4 0]\n",
      " [5 0 8]\n",
      " [1 5 5]]\n",
      "\n",
      "[[4 0 8]\n",
      " [0 8 1]\n",
      " [5 5 1]]\n",
      "\n",
      "[[0 8 1]\n",
      " [8 1 6]\n",
      " [5 1 8]]\n",
      "\n",
      "[[8 1 7]\n",
      " [1 6 4]\n",
      " [1 8 1]]\n",
      "\n",
      "[[1 7 8]\n",
      " [6 4 8]\n",
      " [8 1 6]]\n",
      "\n",
      "[[7 8 0]\n",
      " [4 8 6]\n",
      " [1 6 4]]\n",
      "\n",
      "[[9 9 5]\n",
      " [1 9 1]\n",
      " [4 2 2]]\n",
      "\n",
      "[[9 5 0]\n",
      " [9 1 5]\n",
      " [2 2 4]]\n",
      "\n",
      "[[5 0 8]\n",
      " [1 5 5]\n",
      " [2 4 6]]\n",
      "\n",
      "[[0 8 1]\n",
      " [5 5 1]\n",
      " [4 6 1]]\n",
      "\n",
      "[[8 1 6]\n",
      " [5 1 8]\n",
      " [6 1 9]]\n",
      "\n",
      "[[1 6 4]\n",
      " [1 8 1]\n",
      " [1 9 4]]\n",
      "\n",
      "[[6 4 8]\n",
      " [8 1 6]\n",
      " [9 4 6]]\n",
      "\n",
      "[[4 8 6]\n",
      " [1 6 4]\n",
      " [4 6 5]]\n",
      "\n",
      "[[1 9 1]\n",
      " [4 2 2]\n",
      " [1 1 8]]\n",
      "\n",
      "[[9 1 5]\n",
      " [2 2 4]\n",
      " [1 8 8]]\n",
      "\n",
      "[[1 5 5]\n",
      " [2 4 6]\n",
      " [8 8 0]]\n",
      "\n",
      "[[5 5 1]\n",
      " [4 6 1]\n",
      " [8 0 7]]\n",
      "\n",
      "[[5 1 8]\n",
      " [6 1 9]\n",
      " [0 7 8]]\n",
      "\n",
      "[[1 8 1]\n",
      " [1 9 4]\n",
      " [7 8 2]]\n",
      "\n",
      "[[8 1 6]\n",
      " [9 4 6]\n",
      " [8 2 8]]\n",
      "\n",
      "[[1 6 4]\n",
      " [4 6 5]\n",
      " [2 8 0]]\n",
      "\n",
      "[[4 2 2]\n",
      " [1 1 8]\n",
      " [5 3 5]]\n",
      "\n",
      "[[2 2 4]\n",
      " [1 8 8]\n",
      " [3 5 6]]\n",
      "\n",
      "[[2 4 6]\n",
      " [8 8 0]\n",
      " [5 6 2]]\n",
      "\n",
      "[[4 6 1]\n",
      " [8 0 7]\n",
      " [6 2 0]]\n",
      "\n",
      "[[6 1 9]\n",
      " [0 7 8]\n",
      " [2 0 5]]\n",
      "\n",
      "[[1 9 4]\n",
      " [7 8 2]\n",
      " [0 5 0]]\n",
      "\n",
      "[[9 4 6]\n",
      " [8 2 8]\n",
      " [5 0 5]]\n",
      "\n",
      "[[4 6 5]\n",
      " [2 8 0]\n",
      " [0 5 8]]\n",
      "\n",
      "[[1 1 8]\n",
      " [5 3 5]\n",
      " [6 4 1]]\n",
      "\n",
      "[[1 8 8]\n",
      " [3 5 6]\n",
      " [4 1 9]]\n",
      "\n",
      "[[8 8 0]\n",
      " [5 6 2]\n",
      " [1 9 7]]\n",
      "\n",
      "[[8 0 7]\n",
      " [6 2 0]\n",
      " [9 7 3]]\n",
      "\n",
      "[[0 7 8]\n",
      " [2 0 5]\n",
      " [7 3 2]]\n",
      "\n",
      "[[7 8 2]\n",
      " [0 5 0]\n",
      " [3 2 8]]\n",
      "\n",
      "[[8 2 8]\n",
      " [5 0 5]\n",
      " [2 8 6]]\n",
      "\n",
      "[[2 8 0]\n",
      " [0 5 8]\n",
      " [8 6 5]]\n",
      "\n",
      "[[5 3 5]\n",
      " [6 4 1]\n",
      " [0 3 0]]\n",
      "\n",
      "[[3 5 6]\n",
      " [4 1 9]\n",
      " [3 0 9]]\n",
      "\n",
      "[[5 6 2]\n",
      " [1 9 7]\n",
      " [0 9 7]]\n",
      "\n",
      "[[6 2 0]\n",
      " [9 7 3]\n",
      " [9 7 6]]\n",
      "\n",
      "[[2 0 5]\n",
      " [7 3 2]\n",
      " [7 6 4]]\n",
      "\n",
      "[[0 5 0]\n",
      " [3 2 8]\n",
      " [6 4 4]]\n",
      "\n",
      "[[5 0 5]\n",
      " [2 8 6]\n",
      " [4 4 8]]\n",
      "\n",
      "[[0 5 8]\n",
      " [8 6 5]\n",
      " [4 8 6]]\n",
      "\n",
      "[[6 4 1]\n",
      " [0 3 0]\n",
      " [3 5 4]]\n",
      "\n",
      "[[4 1 9]\n",
      " [3 0 9]\n",
      " [5 4 5]]\n",
      "\n",
      "[[1 9 7]\n",
      " [0 9 7]\n",
      " [4 5 6]]\n",
      "\n",
      "[[9 7 3]\n",
      " [9 7 6]\n",
      " [5 6 7]]\n",
      "\n",
      "[[7 3 2]\n",
      " [7 6 4]\n",
      " [6 7 1]]\n",
      "\n",
      "[[3 2 8]\n",
      " [6 4 4]\n",
      " [7 1 3]]\n",
      "\n",
      "[[2 8 6]\n",
      " [4 4 8]\n",
      " [1 3 2]]\n",
      "\n",
      "[[8 6 5]\n",
      " [4 8 6]\n",
      " [3 2 9]]\n",
      "\n",
      "[[0 3 0]\n",
      " [3 5 4]\n",
      " [4 8 2]]\n",
      "\n",
      "[[3 0 9]\n",
      " [5 4 5]\n",
      " [8 2 4]]\n",
      "\n",
      "[[0 9 7]\n",
      " [4 5 6]\n",
      " [2 4 8]]\n",
      "\n",
      "[[9 7 6]\n",
      " [5 6 7]\n",
      " [4 8 4]]\n",
      "\n",
      "[[7 6 4]\n",
      " [6 7 1]\n",
      " [8 4 8]]\n",
      "\n",
      "[[6 4 4]\n",
      " [7 1 3]\n",
      " [4 8 0]]\n",
      "\n",
      "[[4 4 8]\n",
      " [1 3 2]\n",
      " [8 0 3]]\n",
      "\n",
      "[[4 8 6]\n",
      " [3 2 9]\n",
      " [0 3 3]]\n",
      "\n"
     ]
    }
   ],
   "source": [
    "a = np.random.randint(0, 10,(10, 10))\n",
    "print(\"Original array:\\n\", a)\n",
    "print(\"All 3x3 blocks:\")\n",
    "for i in range(8):\n",
    "    for j in range(8):\n",
    "        print(a[i:i+3, j:j+3], end=\"\\n\\n\")\n"
   ]
  },
  {
   "attachments": {},
   "cell_type": "markdown",
   "metadata": {},
   "source": [
    "---\n",
    "### Q10. A magic square is a matrix all of whose row sums, column sums and the sums of the two diagonals are the same. (One diagonal of a matrix goes from the top left to the bottom right, the other diagonal goes from top right to bottom left.) \n",
    "\n",
    "Show by direct computation that if the matrix A is given by A=np.array([[17, 24, 1, 8, 15], [23, 5, 7, 14, 16], [ 4, 6, 13, 20, 22], [10, 12, 19, 21, 3], [11, 18, 25, 2, 9]]) The matrix A has 5 row sums (one for each row), 5 column sums (one for each column) and two diagonal sums. These 12 sums should all be exactly the same, and you could verify that they are the same by printing them and “seeing” that they are the same. It is easy to miss small differences among so many numbers, though. Instead, verify that A is a magic square by constructing the 5 column sums and computing the maximum and minimum values of the column sums. Do the same for the 5 row sums, and compute the two diagonal sums. Check that these six values are the same. If the maximum and minimum values are the same, the flyswatter principle says that all values are the same. Hints: The function np.diag extracts the diagonal of a matrix, and the function np.fliplr extracts the other diagonal"
   ]
  },
  {
   "cell_type": "code",
   "execution_count": 34,
   "metadata": {},
   "outputs": [
    {
     "name": "stdout",
     "output_type": "stream",
     "text": [
      "Row sums:  [65 65 65 65 65]\n",
      "Col sums:  [65 65 65 65 65]\n",
      "Diag sums=  65 65\n",
      "Magic matrix\n"
     ]
    }
   ],
   "source": [
    "a=np.array([[17, 24, 1, 8, 15], \n",
    "        [23, 5, 7, 14, 16], \n",
    "        [ 4, 6, 13, 20, 22], \n",
    "        [10, 12, 19, 21, 3], \n",
    "        [11, 18, 25, 2, 9]])\n",
    "rs= np.sum(a, 0)\n",
    "print(\"Row sums: \",rs)\n",
    "cs= np.sum(a,1)\n",
    "print(\"Col sums: \", cs)\n",
    "ds1= sum(np.diagonal(a))\n",
    "ds2= sum(np.diagonal(np.fliplr(a)))\n",
    "print(\"Diag sums= \", ds1, ds2)\n",
    "if ds1== ds2 and ds2== rs.max() and rs.max() == rs.min() and rs.min()== cs.max() and cs.max()== cs.min():\n",
    "    print(\"Magic matrix\")\n",
    "else:\n",
    "    print(\"Not magic\")\n",
    "    "
   ]
  }
 ],
 "metadata": {
  "kernelspec": {
   "display_name": "Python 3",
   "language": "python",
   "name": "python3"
  },
  "language_info": {
   "codemirror_mode": {
    "name": "ipython",
    "version": 3
   },
   "file_extension": ".py",
   "mimetype": "text/x-python",
   "name": "python",
   "nbconvert_exporter": "python",
   "pygments_lexer": "ipython3",
   "version": "3.10.0"
  },
  "orig_nbformat": 4,
  "vscode": {
   "interpreter": {
    "hash": "84acd9daa1976748b0cb1aac2d1d7e831b987877e0682bbd8df981985727d27e"
   }
  }
 },
 "nbformat": 4,
 "nbformat_minor": 2
}
