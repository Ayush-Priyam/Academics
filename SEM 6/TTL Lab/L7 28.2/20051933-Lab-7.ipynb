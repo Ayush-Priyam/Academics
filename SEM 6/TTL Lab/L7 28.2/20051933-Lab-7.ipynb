{
 "cells": [
  {
   "attachments": {},
   "cell_type": "markdown",
   "metadata": {},
   "source": [
    "---\n",
    "# <center> <b> TTL LAB 7: Numpy Rest in Python </b>\n",
    "\n",
    "### Name: Ayush Priyam\n",
    "### Roll: 20051933\n",
    "### Date: 28th Feb 2023\n",
    "\n",
    "---\n"
   ]
  },
  {
   "attachments": {},
   "cell_type": "markdown",
   "metadata": {},
   "source": [
    "#### Q1. Write a NumPy program to concatenate element-wise two arrays of string."
   ]
  },
  {
   "cell_type": "code",
   "execution_count": 48,
   "metadata": {},
   "outputs": [
    {
     "name": "stdout",
     "output_type": "stream",
     "text": [
      "Arrays: ['Python' 'PHP'] [' Java' ' C++']\n",
      "Concatenated array:  ['Python Java' 'PHP C++']\n"
     ]
    }
   ],
   "source": [
    "import numpy as np\n",
    "x1 = np.array(['Python', 'PHP'], dtype=str)\n",
    "x2 = np.array([' Java', ' C++'], dtype=str)\n",
    "print(\"Arrays:\", x1, x2)\n",
    "print(\"Concatenated array: \", np.char.add(x1, x2))\n"
   ]
  },
  {
   "attachments": {},
   "cell_type": "markdown",
   "metadata": {},
   "source": [
    "----\n",
    "#### Q2. Write a NumPy program to split the element of a given array with spaces."
   ]
  },
  {
   "cell_type": "code",
   "execution_count": 49,
   "metadata": {},
   "outputs": [
    {
     "name": "stdout",
     "output_type": "stream",
     "text": [
      "Original Arr:\n",
      "['Python PHP Java C++']\n",
      "After Split :  [list(['Python', 'PHP', 'Java', 'C++'])]\n"
     ]
    }
   ],
   "source": [
    "arr = np.array(['Python PHP Java C++'], dtype=str)\n",
    "print(\"Original Arr:\")\n",
    "print(arr)\n",
    "print(\"After Split : \", np.char.split(arr))\n"
   ]
  },
  {
   "attachments": {},
   "cell_type": "markdown",
   "metadata": {},
   "source": [
    "----\n",
    "#### Q3. Write a NumPy program to count the lowest index of \"P\" in a given array, element-wise."
   ]
  },
  {
   "cell_type": "code",
   "execution_count": 50,
   "metadata": {},
   "outputs": [
    {
     "name": "stdout",
     "output_type": "stream",
     "text": [
      "Original Arr: ['Python' 'PHP' 'JS' 'examples' 'html']\n",
      "Freq of P: [ 0  0 -1 -1 -1]\n"
     ]
    }
   ],
   "source": [
    "arr = np.array(['Python', 'PHP', 'JS', 'examples', 'html'], dtype=str)\n",
    "print(\"Original Arr:\", arr)\n",
    "print(\"Freq of P:\", np.char.find(arr, \"P\"))"
   ]
  },
  {
   "attachments": {},
   "cell_type": "markdown",
   "metadata": {},
   "source": [
    "----\n",
    "#### Q4. Write a NumPy program to count a given word in each row of a given array of string values."
   ]
  },
  {
   "cell_type": "code",
   "execution_count": 51,
   "metadata": {},
   "outputs": [
    {
     "name": "stdout",
     "output_type": "stream",
     "text": [
      "Original array:  [['Python' 'NumPy' 'Exercises']\n",
      " ['Python' 'Pandas' 'Exercises']\n",
      " ['Python' 'Machine learning' 'Python']]\n",
      "'Python' Freq:\n",
      " [[1 0 0]\n",
      " [1 0 0]\n",
      " [1 0 1]]\n"
     ]
    }
   ],
   "source": [
    "arr = np.array([['Python', 'NumPy', 'Exercises'],\n",
    "                 ['Python', 'Pandas', 'Exercises'],\n",
    "                 ['Python', 'Machine learning', 'Python']])\n",
    "print(\"Original array: \", arr)\n",
    "print(\"'Python' Freq:\\n\", np.char.count(arr, 'Python'))\n"
   ]
  },
  {
   "attachments": {},
   "cell_type": "markdown",
   "metadata": {},
   "source": [
    "----\n",
    "#### Q5. WAP to print max from axis 0 and min from axis 1 from the following 2-D array."
   ]
  },
  {
   "cell_type": "code",
   "execution_count": 39,
   "metadata": {},
   "outputs": [
    {
     "name": "stdout",
     "output_type": "stream",
     "text": [
      "[[34 43 73]\n",
      " [82 22 12]\n",
      " [53 94 66]]\n",
      "Maximum Values along axis 0:  [82 94 73]\n",
      "Minimum Values along axis 1:  [34 12 53]\n"
     ]
    }
   ],
   "source": [
    "arr = np.array([[34, 43, 73],\n",
    "                [82 ,22, 12],\n",
    "                [53, 94 ,66]])\n",
    "print(arr)\n",
    "max = np.amax(arr, 0)\n",
    "min= np.amin(arr, 1)\n",
    "print(\"Maximum Values along axis 0: \", max)\n",
    "print(\"Minimum Values along axis 1: \", min)"
   ]
  },
  {
   "attachments": {},
   "cell_type": "markdown",
   "metadata": {},
   "source": [
    "----\n",
    "#### Q6. WAP to delete the second column from a given array and insert the following new column in its place."
   ]
  },
  {
   "cell_type": "code",
   "execution_count": 40,
   "metadata": {},
   "outputs": [
    {
     "name": "stdout",
     "output_type": "stream",
     "text": [
      "Array:  [[34 43 73]\n",
      " [82 22 12]\n",
      " [53 94 66]]\n",
      "Array after deleting column 2:  [[34 73]\n",
      " [82 12]\n",
      " [53 66]]\n",
      "Array after inserting column:\n",
      " [[34 10 73]\n",
      " [82 10 12]\n",
      " [53 10 66]]\n"
     ]
    }
   ],
   "source": [
    "arr = np.array([[34,43,73],[82,22,12],[53,94,66]]) \n",
    "print(\"Array: \", arr)\n",
    "arr = np.delete(arr , 1, axis = 1) \n",
    "print(\"Array after deleting column 2: \", arr)\n",
    "col = np.array([[10,10,10]])\n",
    "new = np.insert(arr , 1, col, axis = 1) \n",
    "print(\"Array after inserting column:\\n\", new)\n"
   ]
  },
  {
   "attachments": {},
   "cell_type": "markdown",
   "metadata": {},
   "source": [
    "----\n",
    "#### Q7. WAP to Convert a 1-D array into a 2-D array with 3 rows"
   ]
  },
  {
   "cell_type": "code",
   "execution_count": 41,
   "metadata": {},
   "outputs": [
    {
     "name": "stdout",
     "output_type": "stream",
     "text": [
      "1D Array:  [0 1 2 3 4 5 6 7 8]\n",
      "2D Array:\n",
      " [[0 1 2]\n",
      " [3 4 5]\n",
      " [6 7 8]]\n"
     ]
    }
   ],
   "source": [
    "arr1d = np.array([0, 1, 2, 3, 4, 5, 6, 7, 8])\n",
    "arr2d= np.reshape(arr1d, (3, 3))\n",
    "print(\"1D Array: \", arr1d)\n",
    "print(\"2D Array:\\n\", arr2d)\n"
   ]
  },
  {
   "attachments": {},
   "cell_type": "markdown",
   "metadata": {},
   "source": [
    "----\n",
    "#### Q8.WAP to generate a 1-D array of 10 random integers. Each integer should be a number between 30 and 40 (inclusive)"
   ]
  },
  {
   "cell_type": "code",
   "execution_count": 42,
   "metadata": {},
   "outputs": [
    {
     "name": "stdout",
     "output_type": "stream",
     "text": [
      "Original Array:  [31 39 40 37 34 35 31 37 36 30]\n"
     ]
    }
   ],
   "source": [
    "arr= np.random.randint(30,41, size=10)\n",
    "print(\"Original Array: \", arr)"
   ]
  },
  {
   "attachments": {},
   "cell_type": "markdown",
   "metadata": {},
   "source": [
    "----\n",
    "#### Q9. WAP to Replace all odd numbers in the given array with -1"
   ]
  },
  {
   "cell_type": "code",
   "execution_count": 43,
   "metadata": {},
   "outputs": [
    {
     "name": "stdout",
     "output_type": "stream",
     "text": [
      "[ 0 -1  2 -1  4 -1  6 -1  8 -1]\n"
     ]
    }
   ],
   "source": [
    "arr = np.array([0, 1, 2, 3, 4, 5, 6, 7, 8, 9])\n",
    "for i in range(len(arr)):\n",
    "    if arr[i] % 2 == 1:\n",
    "        arr[i] = -1\n",
    "print(arr)"
   ]
  },
  {
   "attachments": {},
   "cell_type": "markdown",
   "metadata": {},
   "source": [
    "----\n",
    "#### Q10. WAP to create a 5X2 integer array from a range between 100 to 200 such that the difference between each element is 10"
   ]
  },
  {
   "cell_type": "code",
   "execution_count": 44,
   "metadata": {},
   "outputs": [
    {
     "name": "stdout",
     "output_type": "stream",
     "text": [
      "[[100 110]\n",
      " [120 130]\n",
      " [140 150]\n",
      " [160 170]\n",
      " [180 190]]\n"
     ]
    }
   ],
   "source": [
    "arr= np.arange(100,200,10).reshape(5,2)\n",
    "print(arr)"
   ]
  }
 ],
 "metadata": {
  "kernelspec": {
   "display_name": "Python 3",
   "language": "python",
   "name": "python3"
  },
  "language_info": {
   "codemirror_mode": {
    "name": "ipython",
    "version": 3
   },
   "file_extension": ".py",
   "mimetype": "text/x-python",
   "name": "python",
   "nbconvert_exporter": "python",
   "pygments_lexer": "ipython3",
   "version": "3.11.1"
  },
  "orig_nbformat": 4,
  "vscode": {
   "interpreter": {
    "hash": "836b158000efdb4b276fb999ea70847eff802adbd8b5a4601bfa884f6936abae"
   }
  }
 },
 "nbformat": 4,
 "nbformat_minor": 2
}
